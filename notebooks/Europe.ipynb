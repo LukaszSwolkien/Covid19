{
 "cells": [
  {
   "cell_type": "markdown",
   "metadata": {},
   "source": [
    "# COVID-19 data analysis for Europe"
   ]
  },
  {
   "cell_type": "code",
   "execution_count": null,
   "metadata": {},
   "outputs": [],
   "source": [
    "from IPython.display import Markdown as md\n",
    "import datetime\n",
    "import os\n",
    "try:\n",
    "    os.chdir(os.path.join(os.getcwd(), '../'))\n",
    "    print(os.getcwd())\n",
    "except:\n",
    "    pass"
   ]
  },
  {
   "cell_type": "code",
   "execution_count": null,
   "metadata": {},
   "outputs": [],
   "source": [
    "# Configure opentelemetry. This has to be done before we import anything we want to trace\n",
    "\n",
    "from opentelemetry import trace\n",
    "from opentelemetry.exporter import jaeger\n",
    "from opentelemetry.sdk.trace import TracerProvider\n",
    "from opentelemetry.sdk.trace.export import BatchExportSpanProcessor\n",
    "from opentelemetry.instrumentation.requests import RequestsInstrumentor\n",
    "\n",
    "RequestsInstrumentor().instrument()\n",
    "trace.set_tracer_provider(TracerProvider())\n",
    "jaeger_exporter = jaeger.JaegerSpanExporter(\n",
    "    service_name=\"COVID-19-Europe-notebook\",\n",
    "    agent_host_name=\"localhost\",\n",
    "    agent_port=6831,\n",
    ")\n",
    "span_processor = BatchExportSpanProcessor(jaeger_exporter)\n",
    "trace.get_tracer_provider().add_span_processor(span_processor)\n",
    "tracer = trace.get_tracer(__name__)"
   ]
  },
  {
   "cell_type": "markdown",
   "metadata": {},
   "source": [
    "# Europe map with stats (TODO)"
   ]
  },
  {
   "cell_type": "code",
   "execution_count": null,
   "metadata": {},
   "outputs": [],
   "source": []
  }
 ],
 "metadata": {
  "kernelspec": {
   "display_name": "Python 3",
   "language": "python",
   "name": "python3"
  },
  "language_info": {
   "codemirror_mode": {
    "name": "ipython",
    "version": 3
   },
   "file_extension": ".py",
   "mimetype": "text/x-python",
   "name": "python",
   "nbconvert_exporter": "python",
   "pygments_lexer": "ipython3",
   "version": "3.8.5"
  }
 },
 "nbformat": 4,
 "nbformat_minor": 4
}
